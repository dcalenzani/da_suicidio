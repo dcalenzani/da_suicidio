{
 "cells": [
  {
   "cell_type": "code",
   "execution_count": 1,
   "id": "88180d89",
   "metadata": {},
   "outputs": [],
   "source": [
    "import pandas as pd\n",
    "import numpy as np"
   ]
  },
  {
   "cell_type": "code",
   "execution_count": 4,
   "id": "fc48cb94",
   "metadata": {},
   "outputs": [],
   "source": [
    "# Por objetivos de aprendizaje, trabajamos con el master en CSV (tipo de archivo de texto)\n",
    "url1 = \"/home/daniboi/Documents/02_proj/01_dataprojects/ds_project/da_suicidio/master.csv\"\n",
    "df = pd.read_csv(url1)\n",
    "# y en HTML (un enlace de una tabla en una pagina de internet)\n",
    "url2 = 'https://en.wikipedia.org/wiki/Latin_America'\n",
    "latamdf = pd.read_html(url2)[1] # El numero entre barras indica el indice de la tabla que buscamos extraer\n"
   ]
  },
  {
   "cell_type": "code",
   "execution_count": 5,
   "id": "7d01eb44",
   "metadata": {},
   "outputs": [
    {
     "data": {
      "text/plain": [
       "pandas.core.indexes.base.Index"
      ]
     },
     "execution_count": 5,
     "metadata": {},
     "output_type": "execute_result"
    }
   ],
   "source": [
    "# Eliminar columna con perdidas severas y columnas que no utilizaremos\n",
    "\n",
    "# Alternativa 1: útil cuando los nombres son extensos o complicados, y puedes ubicar su posicion exacta\n",
    "#latamdf.drop(latamdf.columns[[0,1,4,-2]], axis=1) \n",
    "\n",
    "# Alternativa 2: útil cuando los nombres son extensos o complicados, y no ubicas su posición exacta\n",
    "col_to_drop = latamdf.columns[latamdf.columns.str.startswith(('F', 'Arm', 'N', 'T'))]\n",
    "latamdf = latamdf.drop(col_to_drop, axis=1)\n",
    "type(col_to_drop)"
   ]
  },
  {
   "cell_type": "code",
   "execution_count": 5,
   "id": "6c92f718",
   "metadata": {},
   "outputs": [
    {
     "data": {
      "text/html": [
       "<div>\n",
       "<style scoped>\n",
       "    .dataframe tbody tr th:only-of-type {\n",
       "        vertical-align: middle;\n",
       "    }\n",
       "\n",
       "    .dataframe tbody tr th {\n",
       "        vertical-align: top;\n",
       "    }\n",
       "\n",
       "    .dataframe thead th {\n",
       "        text-align: right;\n",
       "    }\n",
       "</style>\n",
       "<table border=\"1\" class=\"dataframe\">\n",
       "  <thead>\n",
       "    <tr style=\"text-align: right;\">\n",
       "      <th></th>\n",
       "      <th>country</th>\n",
       "      <th>capital</th>\n",
       "      <th>population</th>\n",
       "      <th>area</th>\n",
       "      <th>density</th>\n",
       "      <th>subregion</th>\n",
       "    </tr>\n",
       "  </thead>\n",
       "  <tbody>\n",
       "    <tr>\n",
       "      <th>0</th>\n",
       "      <td>Argentina</td>\n",
       "      <td>Buenos Aires</td>\n",
       "      <td>45276780</td>\n",
       "      <td>2780400</td>\n",
       "      <td>16</td>\n",
       "      <td>South America</td>\n",
       "    </tr>\n",
       "    <tr>\n",
       "      <th>1</th>\n",
       "      <td>Bolivia</td>\n",
       "      <td>Sucre and La Paz</td>\n",
       "      <td>12079472</td>\n",
       "      <td>1098581</td>\n",
       "      <td>11</td>\n",
       "      <td>South America</td>\n",
       "    </tr>\n",
       "    <tr>\n",
       "      <th>2</th>\n",
       "      <td>Brazil</td>\n",
       "      <td>Brasília</td>\n",
       "      <td>214326223</td>\n",
       "      <td>8514877</td>\n",
       "      <td>25</td>\n",
       "      <td>South America</td>\n",
       "    </tr>\n",
       "    <tr>\n",
       "      <th>3</th>\n",
       "      <td>Chile</td>\n",
       "      <td>Santiago</td>\n",
       "      <td>19493184</td>\n",
       "      <td>756102</td>\n",
       "      <td>26</td>\n",
       "      <td>South America</td>\n",
       "    </tr>\n",
       "    <tr>\n",
       "      <th>4</th>\n",
       "      <td>Colombia</td>\n",
       "      <td>Bogotá</td>\n",
       "      <td>51516562</td>\n",
       "      <td>1141748</td>\n",
       "      <td>45</td>\n",
       "      <td>South America</td>\n",
       "    </tr>\n",
       "  </tbody>\n",
       "</table>\n",
       "</div>"
      ],
      "text/plain": [
       "     country           capital  population     area  density      subregion\n",
       "0  Argentina      Buenos Aires    45276780  2780400       16  South America\n",
       "1    Bolivia  Sucre and La Paz    12079472  1098581       11  South America\n",
       "2     Brazil          Brasília   214326223  8514877       25  South America\n",
       "3      Chile          Santiago    19493184   756102       26  South America\n",
       "4   Colombia            Bogotá    51516562  1141748       45  South America"
      ]
     },
     "execution_count": 5,
     "metadata": {},
     "output_type": "execute_result"
    }
   ],
   "source": [
    "# Modificar los nombres de columnas. Crear una lista con los nombres nuevos y otra con los antiguos, luego cruzarlos\n",
    "new_col_names = ['country', 'capital', 'population', 'area', 'density', 'subregion']\n",
    "old_col_names = latamdf.columns\n",
    "latamdf = latamdf.rename(columns=dict(zip(old_col_names, new_col_names)))\n",
    "latamdf.head()"
   ]
  },
  {
   "cell_type": "code",
   "execution_count": 7,
   "id": "1d0e4e4c",
   "metadata": {},
   "outputs": [],
   "source": [
    "# Filtrar casos de df si los valores de \"country\" coinciden con los de \"latamnom\"\n",
    "latamnom = latamdf['country'] \n",
    "sui_latam = df.query('country in @latamnom')\n",
    "sui_latam.head()"
   ]
  },
  {
   "cell_type": "code",
   "execution_count": null,
   "id": "86c55147",
   "metadata": {},
   "outputs": [],
   "source": [
    "# Analizar el Peru de forma aislada segun las muestras por año\n",
    "sui_peru = sui_latam.sort_values(by=['year','age'], ascending=True).loc[(sui_latam['country']=='Peru')]\n",
    "# Obtener los valores únicos de la columna \"country_year\"\n",
    "sui_peru[\"country_year\"].unique()"
   ]
  }
 ],
 "metadata": {
  "kernelspec": {
   "display_name": "base",
   "language": "python",
   "name": "python3"
  },
  "language_info": {
   "codemirror_mode": {
    "name": "ipython",
    "version": 3
   },
   "file_extension": ".py",
   "mimetype": "text/x-python",
   "name": "python",
   "nbconvert_exporter": "python",
   "pygments_lexer": "ipython3",
   "version": "3.9.12"
  },
  "vscode": {
   "interpreter": {
    "hash": "174e941d12c8b839420edc64b3760e8ff87b99740ba940ac5d248cad536c411b"
   }
  }
 },
 "nbformat": 4,
 "nbformat_minor": 5
}
