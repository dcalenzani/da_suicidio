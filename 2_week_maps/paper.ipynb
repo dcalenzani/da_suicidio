{
 "cells": [
  {
   "attachments": {},
   "cell_type": "markdown",
   "metadata": {},
   "source": [
    "# Suicidio y sociedad en América Latina\n",
    "\n",
    "## Introducción: \n",
    "\n",
    "El presente texto es una exploracion sobre los datos del suicidio en Latinoamerica, con énfasis en el Perú. Desde una perspectiva sociológica, el suicidio es un fenómeno social cuya existencia refleja las necesidades de la misma sociedad. Debido a su dificultad para encontrar al objeto de estudio y tomar información de primera mano, la mayoría de trabajos se ha realizado con fuentes estadísticas secundarias, tomando cómo trabajo original \"El Suicidio\" de E. Durkheim (publicado por primera vez en XXXX). Este trabajo es un esfuerzo por retomar dichas prácticas y volver a pensar en lo individual como social, pero con apoyo intrínseco en la metodología de nuevas fuentes y métodos de investigación.\n",
    "\n",
    "### Objetivo central del presente cuaderno\n",
    "\n",
    "En esta oportunidad, buscamos generar un mapa de calor en relación al número de años en los que se registraron datos sobre el suicidio en cada país. Esto parte del hallazgo de que Perú tiene solo datos para 3 años desde la década de los 2000. En esta oportunidad no hay mayor problema si los mapas generados son estáticos, aunque se espera poder mejorar este ejercicio para generar mapas interactivos con información relevante. \n",
    "\n",
    "### Métodos utilizados\n",
    "\n",
    "Este trabajo se desarrolló cómo parte del Círculo de estudios en Ciencias de Datos \"Data Science Project\", al cuál fuí invitado por Jorge y con el cuál estoy muy agradecido por la invitación. Dentro de nuestro ciclo de proyectos planteamos la necesidad de trabajar cada uno un proyecto personal en torno a una temática de nuestro interés. Por ello, este trabajo combina información de fuentes de datos online las cuáles son procesadas a través de SQL, Python y R. \n",
    "\n",
    "En mi opinión, SQL es la manera más práctica de limpiar datos de grandes conjuntos de información, con el ligero problema de que deberás crear antes un esquema de datos para guardar tus tablas y con el segundo ligero problema de que en caso tengas una tabla única en extremo ancha tu computadora podría explotar (en el sentido figurado) por una mala consulta. Por ejemplo, un SELECT (*) IN TABLE para más de 1 millón de casos con 32 columnas podría provocar una falla de sistema o cierres del programa... no es que me haya pasado.\n",
    "\n",
    "Python es un lenguaje multiparadigma con múltiples librerias para Aprendizaje de Computadoras (ML) y Análisis de datos, cómo son Pandas, Numpy, Plotly y Pytorch. Cada una de estas librerías (o paquetes de datos) sirve para incluir comandos pregenerados asociados a operaciones recurrentes en los procesos de trabajo con datos masivos (superiores a los 10 000 casos). Mi experiencia con Pandas para la limpieza de datos es pobre, y prefiero usar SQL para dicha tarea, pero la integración de la librería con los Jupyter Notebooks es realmente poderosa desde una perspectiva pedagógica, ya que permite una óptima interacción entre código y lector. Al ser Python el lenguaje con el que estoy más familiarizado me encuentro regresando a él cuando quiero realizar procesos para los que ya tengo código generado, cómo scrapping en internet y parseo de información.\n",
    "\n",
    "Por último, R es el lenguaje de cabecera del grupo \"Data Science Project\", dominado por casi todos los miembros del grupo, R ofrece virtualmente las mismas características que Python para casi cualquier análisis que uno pueda pensar. Existen diferencias a nivel de sistema, estas son imperceptibles para la mayoría de usuarios habituales, aunque una cualidad importante de R es que es de base un lenguaje para el análisis estadístico, por lo que funciones que podríamos considerar \"básicas\" cómo generar un básico es mucho más amigable a través de R y sus librerías más populares."
   ]
  },
  {
   "attachments": {},
   "cell_type": "markdown",
   "metadata": {},
   "source": [
    "## Mi procesos con los datos: Experiencia multilenguaje\n",
    "\n",
    "Énfasis en el multi, antes que inter o trans, dado que solo he usado lenguajes de acuerdo a la conveniencia para mi propio aprendizaje, sin pensar exactamente en el flujo de trabajo más óptimo\n",
    "\n",
    "### Primeros pasos: Explorando Pandas\n",
    "\n",
    "Pandas, según la propia página, inicio en el 2008 dentro de AQR Capital Management, para el 2009 ya era open source y actualmente se mantiene gracias a una comunidad de personas interesadas en desarrollar herramientas para la librería. Es considerada una librería base para el análisis de datos en Python. Primero importamos la librería y los archivos con los que vamos a trabajar, extraídos de [Kaggle](Kaggle.com) y [Wikipedia](wikipedia.org)"
   ]
  },
  {
   "cell_type": "code",
   "execution_count": null,
   "metadata": {},
   "outputs": [
    {
     "ename": "",
     "evalue": "",
     "output_type": "error",
     "traceback": [
      "\u001b[1;31mFailed to start the Kernel. \n",
      "\u001b[1;31mFileNotFoundError: [Errno 2] No such file or directory: 'master.csv'. \n",
      "\u001b[1;31mView Jupyter <a href='command:jupyter.viewOutput'>log</a> for further details."
     ]
    }
   ],
   "source": [
    "import pandas as pd\n",
    "import numpy as np"
   ]
  },
  {
   "cell_type": "code",
   "execution_count": null,
   "metadata": {},
   "outputs": [],
   "source": [
    "# Por objetivos de aprendizaje, trabajamos con el master en CSV (tipo de archivo de texto)\n",
    "url1 = \"suicidio/materiales/master.csv\"\n",
    "df = pd.read_csv(url1)\n",
    "# y en HTML (un enlace de una tabla en una pagina de internet)\n",
    "url2 = 'https://en.wikipedia.org/wiki/Latin_America'\n",
    "latamdf = pd.read_html(url2)[1] # El numero entre barras indica el indice de la tabla que buscamos extraer\n",
    "\n",
    "%load_ext rpy2.ipython"
   ]
  }
 ],
 "metadata": {
  "kernelspec": {
   "display_name": "Python 3 (ipykernel)",
   "language": "python",
   "name": "python3"
  },
  "language_info": {
   "name": "python",
   "version": "3.9.12"
  },
  "orig_nbformat": 4,
  "vscode": {
   "interpreter": {
    "hash": "174e941d12c8b839420edc64b3760e8ff87b99740ba940ac5d248cad536c411b"
   }
  }
 },
 "nbformat": 4,
 "nbformat_minor": 2
}
